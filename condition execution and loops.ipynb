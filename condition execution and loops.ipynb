
  {
   "cell_type": "code",
   "execution_count": 2,
   "id": "007c3320-739f-4ad3-b0b1-8137f0df613e",
   "metadata": {},
   "outputs": [
    {
     "name": "stdout",
     "output_type": "stream",
     "text": [
      "True\n"
     ]
    }
   ],
   "source": [
    "a=8\n",
    "if a>5:\n",
    "    print('True')"
   ]
  },
  {
   "cell_type": "code",
   "execution_count": 4,
   "id": "68a05caa-b77e-45ec-8355-20edae1a0be3",
   "metadata": {},
   "outputs": [],
   "source": [
    "a=7\n",
    "if a==3:\n",
    "    print('condition is true')"
   ]
  },
  {
   "cell_type": "code",
   "execution_count": 8,
   "id": "09151506-eb95-45d5-99c7-440db633835d",
   "metadata": {},
   "outputs": [
    {
     "name": "stdout",
     "output_type": "stream",
     "text": [
      "password is correct\n"
     ]
    }
   ],
   "source": [
    "pass1='datamites123'\n",
    "word='datamites123'\n",
    "if pass1==word:\n",
    "    print('password is correct')"
   ]
  },
  {
   "cell_type": "code",
   "execution_count": 12,
   "id": "557a1e71-a565-44e5-a431-5f2a9066fa72",
   "metadata": {},
   "outputs": [
    {
     "name": "stdout",
     "output_type": "stream",
     "text": [
      "not equal\n"
     ]
    }
   ],
   "source": [
    "x=3\n",
    "if x==5:\n",
    "    print('equal')\n",
    "else:\n",
    "    print('not equal')"
   ]
  },
  {
   "cell_type": "code",
   "execution_count": 18,
   "id": "654260d1-47cc-47b7-ba4c-92beba3e4632",
   "metadata": {},
   "outputs": [
    {
     "name": "stdout",
     "output_type": "stream",
     "text": [
      "Not eligible to vote\n"
     ]
    }
   ],
   "source": [
    "age=17\n",
    "if age >= 18:\n",
    "    print(\"Eligible to vote\")\n",
    "else:\n",
    "    print(\"Not eligible to vote\")\n"
   ]
  },
  {
   "cell_type": "code",
   "execution_count": 26,
   "id": "1c68ad1b-a540-43ca-ae6d-b17bb67debee",
   "metadata": {},
   "outputs": [
    {
     "name": "stdout",
     "output_type": "stream",
     "text": [
      "Negative\n"
     ]
    }
   ],
   "source": [
    "num=-43\n",
    "if num >= 0:\n",
    "    print(\"positive\")\n",
    "else:\n",
    "    print(\"Negative\")"
   ]
  },
  {
   "cell_type": "code",
   "execution_count": 30,
   "id": "3ddd402d-a25c-47a2-9a78-a65da4be6fab",
   "metadata": {},
   "outputs": [
    {
     "name": "stdout",
     "output_type": "stream",
     "text": [
      "Negative\n"
     ]
    }
   ],
   "source": [
    "num=-13\n",
    "if num >0:\n",
    "    print(\"positive\")\n",
    "elif num == 0:\n",
    "    print(\"Zero\")\n",
    "else:\n",
    "    print(\"Negative\")\n"
   ]
  },
  {
   "cell_type": "code",
   "execution_count": 32,
   "id": "44d26478-3d3c-4498-93b2-27cb4edc8ed2",
   "metadata": {},
   "outputs": [],
   "source": [
    "# num even or odd"
   ]
  },
  {
   "cell_type": "code",
   "execution_count": 44,
   "id": "62229640-9cf2-4769-86de-307f1108e609",
   "metadata": {},
   "outputs": [
    {
     "name": "stdout",
     "output_type": "stream",
     "text": [
      "even\n"
     ]
    }
   ],
   "source": [
    "num=78\n",
    "if num%2==1:\n",
    "    print(\"odd\")\n",
    "else:\n",
    "    print(\"even\")\n"
   ]
  },
  {
   "cell_type": "code",
   "execution_count": 48,
   "id": "25049fb2-4c6d-4c4c-acf9-22da56b12883",
   "metadata": {},
   "outputs": [
    {
     "name": "stdout",
     "output_type": "stream",
     "text": [
      "fizz-buzz\n"
     ]
    }
   ],
   "source": [
    "# fizz-buzz game\n",
    "num=15\n",
    "if num%3==0 and num%5==0:\n",
    "    print('fizz-buzz')\n",
    "elif num%5==0:\n",
    "    print('buzz')\n",
    "elif num%3==0:\n",
    "    print('fizz')\n",
    "else:\n",
    "    print('none')\n",
    "    \n"
   ]
  },
  {
   "cell_type": "code",
   "execution_count": 50,
   "id": "f4f2a510-184c-441c-8424-4da80a47ea16",
   "metadata": {},
   "outputs": [],
   "source": [
    "# greatest number among 3 num"
   ]
  },
  {
   "cell_type": "code",
   "execution_count": 56,
   "id": "08dd9500-aea1-4347-94c9-3b706805b124",
   "metadata": {},
   "outputs": [
    {
     "name": "stdout",
     "output_type": "stream",
     "text": [
      "34 is greatest\n"
     ]
    }
   ],
   "source": [
    "a,b,c=10,29,34\n",
    "if a>b and b>c:\n",
    "    print(f'{a} is grestest')\n",
    "elif b>a and b>c:\n",
    "    print(f'{b} is greatest')\n",
    "else:\n",
    "    print(f'{c} is greatest')"
   ]
  },
  {
   "cell_type": "code",
   "execution_count": 62,
   "id": "70df551f-974e-4351-8a6f-360f32725e82",
   "metadata": {},
   "outputs": [
    {
     "name": "stdout",
     "output_type": "stream",
     "text": [
      "non palindrome\n"
     ]
    }
   ],
   "source": [
    "#palindrome or not palindrome\n",
    "name='mad'\n",
    "rev=name[::-1]\n",
    "if name == rev:\n",
    "    print('palindrome')\n",
    "else:\n",
    "    print('non palindrome')"
   ]
  },
  {
   "cell_type": "code",
   "execution_count": 64,
   "id": "31c1ddb4-ed24-44cd-b482-df001ac07eaf",
   "metadata": {},
   "outputs": [],
   "source": [
    "# grade of students mark"
   ]
  },
  {
   "cell_type": "code",
   "execution_count": 76,
   "id": "1a72bf68-669a-44c1-95f9-bf2b111cc740",
   "metadata": {},
   "outputs": [
    {
     "name": "stdout",
     "output_type": "stream",
     "text": [
      "A\n"
     ]
    }
   ],
   "source": [
    "#<50-fail\n",
    "#50-60-E\n",
    "#60-70-D\n",
    "#70-80-C\n",
    "#80-90-B\n",
    "#90-100-A\n",
    "mark=100\n",
    "if mark<50:\n",
    "    print('Fail')\n",
    "elif mark>50 and mark<=60:\n",
    "    print('E')\n",
    "elif mark>60 and mark<=70:\n",
    "    print('D')\n",
    "elif mark>70 and mark<=80:\n",
    "    print('C')\n",
    "elif mark>80 and mark<=90:\n",
    "    print('B')\n",
    "else:\n",
    "    print('A')\n"
   ]
  },
  {
   "cell_type": "code",
   "execution_count": 78,
   "id": "e03a60e3-7009-4069-9615-3915b2a6f17c",
   "metadata": {},
   "outputs": [],
   "source": [
    "#calculate BMI\n",
    "#<18-unerfit,18-25-fit,>25-overfit\n",
    "#bmi=(weight in kg)/(height in m)**2"
   ]
  },
  {
   "cell_type": "code",
   "execution_count": 84,
   "id": "2361ac5d-5f7a-4e6b-9d87-15a4b1a88b3f",
   "metadata": {},
   "outputs": [
    {
     "name": "stdout",
     "output_type": "stream",
     "text": [
      "fit\n"
     ]
    }
   ],
   "source": [
    "weight=54\n",
    "height=156\n",
    "m=height/100\n",
    "bmi=(weight)/(m)**2\n",
    "if bmi < 18:\n",
    "    print('underfit')\n",
    "elif bmi >= 18 and bmi< 25:\n",
    "    print('fit')\n",
    "else:\n",
    "    print('overfit')\n",
    "\n"
   ]
  },
  {
   "cell_type": "code",
   "execution_count": 88,
   "id": "28f4177d-d371-4956-bd69-34c10d647fae",
   "metadata": {},
   "outputs": [],
   "source": [
    "#leap year"
   ]
  },
  {
   "cell_type": "code",
   "execution_count": 104,
   "id": "267b88e0-a0d3-45bf-ab92-bb10b9a58b06",
   "metadata": {},
   "outputs": [
    {
     "name": "stdout",
     "output_type": "stream",
     "text": [
      "leap year\n"
     ]
    }
   ],
   "source": [
    "year=2004\n",
    "if year%4==0 and year%100!=0 or year%400==0:\n",
    "    print('leap year')\n",
    "else: \n",
    "    print('not leap year')\n"
   ]
  },
  {
   "cell_type": "code",
   "execution_count": 1,
   "id": "5dd9ca2b-d074-46d0-a8a6-f1d7c6bd641e",
   "metadata": {},
   "outputs": [
    {
     "name": "stdout",
     "output_type": "stream",
     "text": [
      "Isosceles\n"
     ]
    }
   ],
   "source": [
    "# determine the shape of the triangle\n",
    "s1,s2,s3=10,13,13\n",
    "if s1==s2==s3:\n",
    "    print('Equilateral')\n",
    "elif s1==s2 or s2==s3 or s1==s3:\n",
    "    print('Isosceles')\n",
    "else:\n",
    "    print('Scalene')"
   ]
  },
  {
   "cell_type": "code",
   "execution_count": 11,
   "id": "99395dbd-5000-45bc-a1a6-218b53196d57",
   "metadata": {},
   "outputs": [
    {
     "name": "stdout",
     "output_type": "stream",
     "text": [
      "negative num not above -10\n"
     ]
    }
   ],
   "source": [
    "#nested if\n",
    "num=-12\n",
    "if num<0:\n",
    "    if num>-10:\n",
    "        print('negative num above -10')\n",
    "    else:\n",
    "        print('negative num not above -10')\n",
    "else:\n",
    "        if num%2==0:\n",
    "            print('even')\n",
    "        else:\n",
    "            print('odd')\n",
    "        "
   ]
  },
  {
   "cell_type": "code",
   "execution_count": 33,
   "id": "fd1b7d33-3863-4949-8ba2-a464abea55c4",
   "metadata": {},
   "outputs": [
    {
     "name": "stdin",
     "output_type": "stream",
     "text": [
      "enter light,speed red,45\n"
     ]
    },
    {
     "name": "stdout",
     "output_type": "stream",
     "text": [
      "action is to stop\n"
     ]
    }
   ],
   "source": [
    "light,speed=input('enter light,speed').split(',')\n",
    "if light==\"red\":\n",
    "    print('action is to stop')\n",
    "elif light=='yellow':\n",
    "    if int(speed)>30:\n",
    "        print('action is to slowdown')\n",
    "    else:\n",
    "        print(\"action is to stop\")\n",
    "elif light=='green':\n",
    "    print('action is to go')\n",
    "else:\n",
    "    print('color is invalid')"
   ]
  },
  {
   "cell_type": "code",
   "execution_count": 27,
   "id": "727dc064-04a8-4fe5-8250-0fa44d891957",
   "metadata": {},
   "outputs": [
    {
     "name": "stdin",
     "output_type": "stream",
     "text": [
      "enter the number 77\n"
     ]
    },
    {
     "data": {
      "text/plain": [
       "'77'"
      ]
     },
     "execution_count": 27,
     "metadata": {},
     "output_type": "execute_result"
    }
   ],
   "source": [
    "# input function\n",
    "a=input('enter the number')\n",
    "a"
   ]
  },
  {
   "cell_type": "code",
   "execution_count": 29,
   "id": "bd17c5c9-5f90-4f87-9fca-8d60c3c6c5c7",
   "metadata": {},
   "outputs": [
    {
     "name": "stdin",
     "output_type": "stream",
     "text": [
      "enter the number 67\n"
     ]
    },
    {
     "data": {
      "text/plain": [
       "67"
      ]
     },
     "execution_count": 29,
     "metadata": {},
     "output_type": "execute_result"
    }
   ],
   "source": [
    "a=int(input('enter the number'))\n",
    "a"
   ]
  },
  {
   "cell_type": "code",
   "execution_count": 45,
   "id": "35406842-603d-421d-a632-04f2bb3ee922",
   "metadata": {},
   "outputs": [
    {
     "name": "stdin",
     "output_type": "stream",
     "text": [
      "enter the temp -9\n"
     ]
    },
    {
     "name": "stdout",
     "output_type": "stream",
     "text": [
      "cold\n"
     ]
    }
   ],
   "source": [
    "temp=int(input(\"enter the temp\"))\n",
    "if temp<0:\n",
    "    if temp<-10:\n",
    "        print(\"Extreme cold\")\n",
    "    else:\n",
    "        print(\"cold\")\n",
    "elif temp >0 and temp<30:\n",
    "    if temp >20:\n",
    "        print(\"Warm\")\n",
    "    else:\n",
    "        print(\"Cool\")\n",
    "else:\n",
    "    if temp >40:\n",
    "        print(\"Heatwave\")\n",
    "    else:\n",
    "        print(\"Hot\")"
   ]
  },
  {
   "cell_type": "code",
   "execution_count": 47,
   "id": "ba7f45e5-1be9-4540-b9bf-e08e1549b5ba",
   "metadata": {},
   "outputs": [],
   "source": [
    "# range"
   ]
  },
  {
   "cell_type": "code",
   "execution_count": 49,
   "id": "eca1327f-a54d-4167-a28c-a8f1ad30ba76",
   "metadata": {},
   "outputs": [
    {
     "name": "stdout",
     "output_type": "stream",
     "text": [
      "range(0, 5)\n"
     ]
    }
   ],
   "source": [
    "print(range(5))"
   ]
  },
  {
   "cell_type": "code",
   "execution_count": 51,
   "id": "c09408e6-5c09-48e1-b1d1-32204895b35d",
   "metadata": {},
   "outputs": [
    {
     "data": {
      "text/plain": [
       "[0, 1, 2, 3, 4]"
      ]
     },
     "execution_count": 51,
     "metadata": {},
     "output_type": "execute_result"
    }
   ],
   "source": [
    "list(range(5))"
   ]
  },
  {
   "cell_type": "code",
   "execution_count": 55,
   "id": "dc65e914-e602-40e5-84f9-584fbeeb4f7b",
   "metadata": {},
   "outputs": [
    {
     "data": {
      "text/plain": [
       "[1, 3, 5, 7, 9]"
      ]
     },
     "execution_count": 55,
     "metadata": {},
     "output_type": "execute_result"
    }
   ],
   "source": [
    "list(range(1,11,2))"
   ]
  },
  {
   "cell_type": "code",
   "execution_count": 57,
   "id": "582983fe-c6b4-409a-9b89-9f7a2e7ea2a9",
   "metadata": {},
   "outputs": [
    {
     "data": {
      "text/plain": [
       "[0, 2, 4, 6, 8]"
      ]
     },
     "execution_count": 57,
     "metadata": {},
     "output_type": "execute_result"
    }
   ],
   "source": [
    "list(range(0,10,2))"
   ]
  },
  {
   "cell_type": "code",
   "execution_count": 59,
   "id": "c84b4d50-de60-4253-ad29-e832cecd2e43",
   "metadata": {},
   "outputs": [
    {
     "data": {
      "text/plain": [
       "[100, 99, 98, 97, 96, 95, 94, 93, 92, 91]"
      ]
     },
     "execution_count": 59,
     "metadata": {},
     "output_type": "execute_result"
    }
   ],
   "source": [
    "list(range(100,90,-1))"
   ]
  },
  {
   "cell_type": "code",
   "execution_count": 61,
   "id": "c5c53795-8665-45d9-a71b-d1c78de6458e",
   "metadata": {},
   "outputs": [],
   "source": [
    "# loops"
   ]
  },
  {
   "cell_type": "code",
   "execution_count": 63,
   "id": "c8464c96-4753-47f1-8d18-7ac609da33ba",
   "metadata": {},
   "outputs": [
    {
     "name": "stdout",
     "output_type": "stream",
     "text": [
      "0\n",
      "1\n",
      "2\n",
      "3\n",
      "4\n"
     ]
    }
   ],
   "source": [
    "for i in range(5):\n",
    "    print(i)"
   ]
  },
  {
   "cell_type": "code",
   "execution_count": 65,
   "id": "0748fdce-54f7-41e2-914d-f418fc39fd1e",
   "metadata": {},
   "outputs": [
    {
     "name": "stdout",
     "output_type": "stream",
     "text": [
      "1\n",
      "2\n",
      "3\n",
      "4\n",
      "5\n"
     ]
    }
   ],
   "source": [
    "for i in range(1,6):\n",
    "    print(i)\n"
   ]
  },
  {
   "cell_type": "code",
   "execution_count": 69,
   "id": "5643bb07-acc7-41ca-a03f-3b1bf1d9b62a",
   "metadata": {},
   "outputs": [
    {
     "name": "stdout",
     "output_type": "stream",
     "text": [
      "adding choco chips to cookie1\n",
      "adding choco chips to cookie2\n",
      "adding choco chips to cookie3\n",
      "adding choco chips to cookie4\n",
      "adding choco chips to cookie5\n",
      "adding choco chips to cookie6\n",
      "adding choco chips to cookie7\n",
      "adding choco chips to cookie8\n",
      "adding choco chips to cookie9\n",
      "adding choco chips to cookie10\n",
      "adding choco chips to cookie11\n",
      "adding choco chips to cookie12\n"
     ]
    }
   ],
   "source": [
    "for i in range(1,13):\n",
    "    print(f'adding choco chips to cookie{i}')"
   ]
  },
  {
   "cell_type": "code",
   "execution_count": 71,
   "id": "d40d9e95-3e02-4940-93e8-abd5def0c781",
   "metadata": {},
   "outputs": [
    {
     "name": "stdout",
     "output_type": "stream",
     "text": [
      "10\n",
      "12\n",
      "14\n",
      "16\n",
      "18\n",
      "20\n",
      "22\n",
      "24\n",
      "26\n",
      "28\n",
      "30\n"
     ]
    }
   ],
   "source": [
    "#print even num 10 -30\n",
    "for i in range(10,31,2):\n",
    "    print(i)"
   ]
  },
  {
   "cell_type": "code",
   "execution_count": 75,
   "id": "f4134e90-00a0-420e-9dee-3da07ed38dd5",
   "metadata": {},
   "outputs": [
    {
     "name": "stdout",
     "output_type": "stream",
     "text": [
      "70\n",
      "68\n",
      "66\n",
      "64\n",
      "62\n",
      "60\n",
      "58\n",
      "56\n",
      "54\n",
      "52\n",
      "50\n"
     ]
    }
   ],
   "source": [
    "for i in range(70,49,-2):\n",
    "    print(i)"
   ]
  },
  {
   "cell_type": "code",
   "execution_count": 77,
   "id": "bc26933a-ac37-48c0-bc86-b34b47a116b8",
   "metadata": {},
   "outputs": [],
   "source": [
    "#iterating over sequence\n"
   ]
  },
  {
   "cell_type": "code",
   "execution_count": 79,
   "id": "7fced740-f4f4-4959-b70f-77244ea38ce3",
   "metadata": {},
   "outputs": [
    {
     "name": "stdout",
     "output_type": "stream",
     "text": [
      "abi\n",
      "24\n",
      "divya\n",
      "15\n"
     ]
    }
   ],
   "source": [
    "# basic iteration over a list\n",
    "list1=['abi','24','divya','15']\n",
    "for i in list1:\n",
    "    print(i)"
   ]
  },
  {
   "cell_type": "code",
   "execution_count": 81,
   "id": "739b7c54-ae0e-4e2b-82cf-f481f9e93f89",
   "metadata": {},
   "outputs": [
    {
     "name": "stdout",
     "output_type": "stream",
     "text": [
      "d\n",
      "i\n",
      "y\n",
      "a\n"
     ]
    }
   ],
   "source": [
    "# iterating over string\n",
    "name='diya'\n",
    "for i in name:\n",
    "    print(i)"
   ]
  },
  {
   "cell_type": "code",
   "execution_count": 83,
   "id": "4836de38-6a41-4cab-9de3-ed60ea3d5408",
   "metadata": {},
   "outputs": [
    {
     "ename": "NameError",
     "evalue": "name 'tuple1' is not defined",
     "output_type": "error",
     "traceback": [
      "\u001b[1;31m---------------------------------------------------------------------------\u001b[0m",
      "\u001b[1;31mNameError\u001b[0m                                 Traceback (most recent call last)",
      "Cell \u001b[1;32mIn[83], line 2\u001b[0m\n\u001b[0;32m      1\u001b[0m \u001b[38;5;66;03m# iteration over tuple\u001b[39;00m\n\u001b[1;32m----> 2\u001b[0m tuple1\n",
      "\u001b[1;31mNameError\u001b[0m: name 'tuple1' is not defined"
     ]
    }
   ],
   "source": [
    "# iteration over tuple\n",
    "tuple1"
   ]
  },
  {
   "cell_type": "code",
   "execution_count": 95,
   "id": "31030865-6173-45ff-8d62-730d40aaa9e8",
   "metadata": {},
   "outputs": [
    {
     "name": "stdout",
     "output_type": "stream",
     "text": [
      "dict_keys(['alice', 'bob'])\n"
     ]
    }
   ],
   "source": [
    "grade={'alice':90,'bob':70}\n",
    "print(grade.keys())"
   ]
  },
  {
   "cell_type": "code",
   "execution_count": 97,
   "id": "1fc84ad8-0f5d-4501-af2e-660d43280683",
   "metadata": {},
   "outputs": [
    {
     "name": "stdout",
     "output_type": "stream",
     "text": [
      "alice\n",
      "bob\n"
     ]
    }
   ],
   "source": [
    "for i in grade.keys():\n",
    "    print(i)"
   ]
  },
  {
   "cell_type": "code",
   "execution_count": 99,
   "id": "9aef6fa1-a07a-4891-a834-614d66c5b185",
   "metadata": {},
   "outputs": [
    {
     "name": "stdout",
     "output_type": "stream",
     "text": [
      "90\n",
      "70\n"
     ]
    }
   ],
   "source": [
    "for i in grade.values():\n",
    "    print(i)"
   ]
  },
  {
   "cell_type": "code",
   "execution_count": 101,
   "id": "1d535018-8040-4ecd-be2c-2c7ffe00551c",
   "metadata": {},
   "outputs": [
    {
     "name": "stdout",
     "output_type": "stream",
     "text": [
      "alice 90\n",
      "bob 70\n"
     ]
    }
   ],
   "source": [
    "for x,y in grade.items():\n",
    "    print(x,y)"
   ]
  },
  {
   "cell_type": "code",
   "execution_count": 103,
   "id": "895b273d-62b0-41f9-b472-529f3241121a",
   "metadata": {},
   "outputs": [
    {
     "name": "stdout",
     "output_type": "stream",
     "text": [
      "alice\n",
      "90\n",
      "bob\n",
      "70\n"
     ]
    }
   ],
   "source": [
    "for x,y in grade.items():\n",
    "    print(x)\n",
    "    print(y)"
   ]
  },
  {
   "cell_type": "code",
   "execution_count": 105,
   "id": "bd13e1eb-e683-4f85-88c0-0ffca77c7405",
   "metadata": {},
   "outputs": [],
   "source": [
    "# performs operations from each elements\n"
   ]
  },
  {
   "cell_type": "code",
   "execution_count": 109,
   "id": "26b9f03d-8cd2-4b15-a810-0d6a3011c9b1",
   "metadata": {},
   "outputs": [
    {
     "data": {
      "text/plain": [
       "['a', '2', 'd', '1']"
      ]
     },
     "execution_count": 109,
     "metadata": {},
     "output_type": "execute_result"
    }
   ],
   "source": [
    "list1=['akshaya','24','diya','15']\n",
    "list2=[]\n",
    "for i in list1:\n",
    "    list2.append(i[0])\n",
    "list2"
   ]
  },
  {
   "cell_type": "code",
   "execution_count": 111,
   "id": "fde90ab3-9693-41d4-9f70-ede33926dd69",
   "metadata": {},
   "outputs": [
    {
     "data": {
      "text/plain": [
       "['a', '2', 'd', '1', 'ak', '24', 'di', '15']"
      ]
     },
     "execution_count": 111,
     "metadata": {},
     "output_type": "execute_result"
    }
   ],
   "source": [
    "for i in list1:\n",
    "    list2.append(i[:2])\n",
    "list2"
   ]
  },
  {
   "cell_type": "code",
   "execution_count": 115,
   "id": "47e43d82-b487-4d20-af3f-b7570881ba11",
   "metadata": {},
   "outputs": [
    {
     "name": "stdout",
     "output_type": "stream",
     "text": [
      "[50, 52, 54, 56, 58, 60, 62, 64, 66, 68, 70, 72, 74, 76, 78, 80, 82, 84, 86, 88, 90, 92, 94, 96, 98, 100]\n",
      "[51, 53, 55, 57, 59, 61, 63, 65, 67, 69, 71, 73, 75, 77, 79, 81, 83, 85, 87, 89, 91, 93, 95, 97, 99]\n"
     ]
    }
   ],
   "source": [
    "even=[]\n",
    "odd=[]\n",
    "for i in range(50,101):\n",
    "    if i%2==0:\n",
    "        even.append(i)\n",
    "    else:\n",
    "        odd.append(i)\n",
    "print(even)\n",
    "print(odd)"
   ]
  },
  {
   "cell_type": "code",
   "execution_count": 5,
   "id": "94849f3e-d15b-48dc-974c-2894e78f1908",
   "metadata": {},
   "outputs": [
    {
     "name": "stdout",
     "output_type": "stream",
     "text": [
      "5 5\n"
     ]
    }
   ],
   "source": [
    "# program that counts number of even and odd number\n",
    "numbers=[10,21,32,43,54,65,76,87,98,109]\n",
    "even=0\n",
    "odd=0\n",
    "for num in numbers:\n",
    "    if num%2==0:\n",
    "        even=even+1\n",
    "    else:\n",
    "        odd=odd+1\n",
    "print(even,odd)"
   ]
  },
  {
   "cell_type": "code",
   "execution_count": 7,
   "id": "e32b1065-80a6-4743-ad7a-c9a8e04e80fb",
   "metadata": {},
   "outputs": [
    {
     "name": "stdout",
     "output_type": "stream",
     "text": [
      "270\n"
     ]
    }
   ],
   "source": [
    "#sum of even numbers\n",
    "sum1=0\n",
    "for i in numbers:\n",
    "    if i%2==0:\n",
    "        sum1=sum1+i\n",
    "print(sum1)\n",
    "    "
   ]
  },
  {
   "cell_type": "code",
   "execution_count": 9,
   "id": "83456a0f-1abf-4948-9929-8189eb07f6a3",
   "metadata": {},
   "outputs": [
    {
     "name": "stdout",
     "output_type": "stream",
     "text": [
      "['apple', 'avocado', 'apricot']\n"
     ]
    }
   ],
   "source": [
    "# program to find all words in a list that starts with letter 'a'\n",
    "words=['apple','banana','avocado','grape','apricot','berry']\n",
    "out=[]\n",
    "for fruit in words:\n",
    "    if fruit.startswith('a')==True:\n",
    "        out.append(fruit)\n",
    "print(out)"
   ]
  },
  {
   "cell_type": "code",
   "execution_count": 11,
   "id": "683d0423-f390-4a0b-9f5f-b008b8b6c52a",
   "metadata": {},
   "outputs": [
    {
     "name": "stdout",
     "output_type": "stream",
     "text": [
      "[10, 8, 4, 9]\n"
     ]
    }
   ],
   "source": [
    "#print positive numbers\n",
    "numbers=[-5,10,-3,8,-1,4,-7,9]\n",
    "out=[]\n",
    "for num in numbers:\n",
    "    if num>0:\n",
    "        out.append(num)\n",
    "print(out)"
   ]
  },
  {
   "cell_type": "code",
   "execution_count": 21,
   "id": "4a9ae907-b73e-4cd7-8fe0-29b8e96df66e",
   "metadata": {},
   "outputs": [
    {
     "name": "stdout",
     "output_type": "stream",
     "text": [
      "[5, 6, 7, 10, 7, 5]\n",
      "10\n",
      "3\n",
      "grapefruit\n"
     ]
    }
   ],
   "source": [
    "#program that finds the longest word in a list of words\n",
    "fruits=['apple','banana','avocado','grapefruit','apricot','berry']\n",
    "length=[]\n",
    "for i in fruits:\n",
    "    length.append(len(i))\n",
    "print(length)\n",
    "max1=max(length)\n",
    "print(max1)\n",
    "index=length.index(max1)\n",
    "print(index)\n",
    "print(fruits[index])"
   ]
  },
  {
   "cell_type": "code",
   "execution_count": 23,
   "id": "e3dae373-8cdb-4a81-ab21-3a58ef1af05d",
   "metadata": {},
   "outputs": [
    {
     "name": "stdout",
     "output_type": "stream",
     "text": [
      "grapefruit\n"
     ]
    }
   ],
   "source": [
    "for i in fruits:\n",
    "    if len(i)==max1:\n",
    "        print(i)"
   ]
  },
  {
   "cell_type": "code",
   "execution_count": 35,
   "id": "2a591c4b-01c6-4446-8070-158b6d74ec0f",
   "metadata": {},
   "outputs": [
    {
     "name": "stdout",
     "output_type": "stream",
     "text": [
      "120\n"
     ]
    }
   ],
   "source": [
    "#factorial of a number\n",
    "num=5\n",
    "fact=1\n",
    "for i in range(num,0,-1):\n",
    "    fact=fact*i\n",
    "print(fact)"
   ]
  },
  {
   "cell_type": "code",
   "execution_count": 37,
   "id": "553d7b71-1e38-4a3a-95fe-f661c751d174",
   "metadata": {},
   "outputs": [
    {
     "name": "stdout",
     "output_type": "stream",
     "text": [
      "15\n"
     ]
    }
   ],
   "source": [
    "#sum of digits\n",
    "num=393\n",
    "sum=0\n",
    "for i in range(3):\n",
    "    rem=num%10\n",
    "    num=num//10\n",
    "    sum=sum+rem\n",
    "print(sum)\n",
    "    "
   ]
  },
  {
   "cell_type": "code",
   "execution_count": 47,
   "id": "4f7faad5-6972-43af-a3e1-9b7660f2c406",
   "metadata": {},
   "outputs": [
    {
     "name": "stdout",
     "output_type": "stream",
     "text": [
      "not palindrome\n"
     ]
    }
   ],
   "source": [
    "# num palindrome\n",
    "num=3932\n",
    "sum=0\n",
    "num1=num\n",
    "for i in range(3):\n",
    "    rem=num%10\n",
    "    num=num//10\n",
    "    sum=sum*10+rem\n",
    "if sum==num1:\n",
    "    print('palindrome')\n",
    "else:\n",
    "    print('not palindrome')"
   ]
  },
  {
   "cell_type": "code",
   "execution_count": 49,
   "id": "50dbcd45-2cb4-40a4-9fdf-87e83a2b4b6f",
   "metadata": {},
   "outputs": [],
   "source": [
    "#nested for\n"
   ]
  },
  {
   "cell_type": "code",
   "execution_count": 51,
   "id": "35a04401-ee9a-4490-b24b-076c69b45811",
   "metadata": {},
   "outputs": [
    {
     "name": "stdout",
     "output_type": "stream",
     "text": [
      "Apple Apple\n",
      "Apple Banana\n",
      "Apple Mango\n",
      "Apple Watermelon\n",
      "Apple Orange\n",
      "Banana Apple\n",
      "Banana Banana\n",
      "Banana Mango\n",
      "Banana Watermelon\n",
      "Banana Orange\n",
      "Mango Apple\n",
      "Mango Banana\n",
      "Mango Mango\n",
      "Mango Watermelon\n",
      "Mango Orange\n",
      "Watermelon Apple\n",
      "Watermelon Banana\n",
      "Watermelon Mango\n",
      "Watermelon Watermelon\n",
      "Watermelon Orange\n",
      "Orange Apple\n",
      "Orange Banana\n",
      "Orange Mango\n",
      "Orange Watermelon\n",
      "Orange Orange\n"
     ]
    }
   ],
   "source": [
    "fruits=['Apple','Banana','Mango','Watermelon','Orange']\n",
    "for i in fruits:\n",
    "    for j in fruits:\n",
    "        print(i,j)"
   ]
  },
  {
   "cell_type": "code",
   "execution_count": 57,
   "id": "d41831ad-e44a-45b4-8ecd-caa6a5800bbf",
   "metadata": {},
   "outputs": [
    {
     "name": "stdout",
     "output_type": "stream",
     "text": [
      "A\n",
      "p\n",
      "p\n",
      "l\n",
      "e\n",
      "B\n",
      "a\n",
      "n\n",
      "a\n",
      "n\n",
      "a\n",
      "M\n",
      "a\n",
      "n\n",
      "g\n",
      "o\n",
      "W\n",
      "a\n",
      "t\n",
      "e\n",
      "r\n",
      "m\n",
      "e\n",
      "l\n",
      "o\n",
      "n\n",
      "O\n",
      "r\n",
      "a\n",
      "n\n",
      "g\n",
      "e\n"
     ]
    }
   ],
   "source": [
    "for i in fruits:\n",
    "    for j in i:\n",
    "        print(j)"
   ]
  },
  {
   "cell_type": "code",
   "execution_count": 1,
   "id": "53df2f39-fd00-47fc-a389-71a66ce1dbcc",
   "metadata": {},
   "outputs": [],
   "source": [
    "# Pattern printing"
   ]
  },
  {
   "cell_type": "code",
   "execution_count": 3,
   "id": "bd09b395-c366-49e7-8747-90d242b89379",
   "metadata": {},
   "outputs": [
    {
     "name": "stdout",
     "output_type": "stream",
     "text": [
      "* * * * * \n",
      "* * * * * \n",
      "* * * * * \n",
      "* * * * * \n",
      "* * * * * \n"
     ]
    }
   ],
   "source": [
    "for i in range(5):\n",
    "    for j in range(5):\n",
    "        print('*',end=' ')\n",
    "    print()"
   ]
  },
  {
   "cell_type": "code",
   "execution_count": 5,
   "id": "9c2243a4-d6b0-4fe1-8351-5d00c88f466a",
   "metadata": {},
   "outputs": [
    {
     "name": "stdout",
     "output_type": "stream",
     "text": [
      "*  \n",
      "*  *  \n",
      "*  *  *  \n",
      "*  *  *  *  \n",
      "*  *  *  *  *  \n"
     ]
    }
   ],
   "source": [
    "for i in range(5):\n",
    "    for j in range(i+1):\n",
    "        print('* ',end=' ')\n",
    "    print()"
   ]
  },
  {
   "cell_type": "code",
   "execution_count": 7,
   "id": "384e2c94-82d3-4863-b099-0a86849a2218",
   "metadata": {},
   "outputs": [
    {
     "name": "stdout",
     "output_type": "stream",
     "text": [
      "0 \n",
      "1 1 \n",
      "2 2 2 \n",
      "3 3 3 3 \n",
      "4 4 4 4 4 \n"
     ]
    }
   ],
   "source": [
    "for i in range(5):\n",
    "    for j in range(i+1):\n",
    "        print(i,end=' ')\n",
    "    print()"
   ]
  },
  {
   "cell_type": "code",
   "execution_count": 9,
   "id": "0eb98e3d-ccf3-4f24-836f-5084c8a83e63",
   "metadata": {},
   "outputs": [
    {
     "name": "stdout",
     "output_type": "stream",
     "text": [
      "1 \n",
      "2 3 \n",
      "4 5 6 \n",
      "7 8 9 10 \n",
      "11 12 13 14 15 \n"
     ]
    }
   ],
   "source": [
    "num=1\n",
    "for i in range(5):\n",
    "    for j in range(i+1):\n",
    "        print(num,end=' ')\n",
    "        num=num+1\n",
    "    print()"
   ]
  },
  {
   "cell_type": "code",
   "execution_count": 11,
   "id": "6466f8f1-adf4-415e-a762-b858daea74b5",
   "metadata": {},
   "outputs": [
    {
     "name": "stdout",
     "output_type": "stream",
     "text": [
      "A \n",
      "B B \n",
      "C C C \n",
      "D D D D \n",
      "E E E E E \n"
     ]
    }
   ],
   "source": [
    "num=65\n",
    "for i in range(5):\n",
    "    for j in range(i+1):\n",
    "        print(chr(num),end=' ')\n",
    "    num=num+1\n",
    "    print()"
   ]
  },
  {
   "cell_type": "code",
   "execution_count": 13,
   "id": "f399582a-2b74-4525-967f-5cb18e904203",
   "metadata": {},
   "outputs": [
    {
     "name": "stdout",
     "output_type": "stream",
     "text": [
      "A \n",
      "B C \n",
      "D E F \n",
      "G H I J \n",
      "K L M N O \n"
     ]
    }
   ],
   "source": [
    "num=65\n",
    "for i in range(5):\n",
    "    for j in range(i+1):\n",
    "        print(chr(num),end=' ')\n",
    "        num=num+1\n",
    "    print()"
   ]
  },
  {
   "cell_type": "code",
   "execution_count": 15,
   "id": "ca90fc36-70e5-437f-8cb4-a011591985ca",
   "metadata": {},
   "outputs": [
    {
     "name": "stdout",
     "output_type": "stream",
     "text": [
      "* * * * * \n",
      "* * * * \n",
      "* * * \n",
      "* * \n",
      "* \n",
      "\n"
     ]
    }
   ],
   "source": [
    "for i in range(6,0,-1):\n",
    "    for j in range(i-1):\n",
    "        print('*',end=' ')\n",
    "    print()"
   ]
  },
  {
   "cell_type": "code",
   "execution_count": 17,
   "id": "a7a1413d-37a3-43ae-9317-fcc043ce5c61",
   "metadata": {},
   "outputs": [
    {
     "name": "stdout",
     "output_type": "stream",
     "text": [
      "        *   \n",
      "      *   *   \n",
      "    *   *   *   \n",
      "  *   *   *   *   \n",
      "*   *   *   *   *   \n"
     ]
    }
   ],
   "source": [
    "num=5\n",
    "for i in range(num):\n",
    "    for j in range(num-i-1):\n",
    "        print(' ',end=' ')\n",
    "    for k in range(i+1):\n",
    "        print('*  ',end=' ')\n",
    "    print()"
   ]
  },
  {
   "cell_type": "code",
   "execution_count": 19,
   "id": "f6cb64e7-c185-40e6-968e-ee9a73978ade",
   "metadata": {},
   "outputs": [
    {
     "name": "stdout",
     "output_type": "stream",
     "text": [
      "* \n",
      "* * \n",
      "* * * \n",
      "* * * * \n",
      "* * * * * \n"
     ]
    }
   ],
   "source": [
    "num=5\n",
    "for i in range(num):\n",
    "    print('* '*(i+1))"
   ]
  },
  {
   "cell_type": "code",
   "execution_count": 21,
   "id": "4bc12dca-affb-45f3-8777-4e1926262598",
   "metadata": {},
   "outputs": [
    {
     "name": "stdout",
     "output_type": "stream",
     "text": [
      "* * * * * \n",
      "* * * * \n",
      "* * * \n",
      "* * \n",
      "* \n",
      "\n"
     ]
    }
   ],
   "source": [
    "for i in range(6,0,-1):\n",
    "    print('* '*(i-1))"
   ]
  },
  {
   "cell_type": "code",
   "execution_count": 23,
   "id": "fd7ccb18-2c61-4676-a02d-c8f84e99c290",
   "metadata": {},
   "outputs": [
    {
     "name": "stdout",
     "output_type": "stream",
     "text": [
      "    *  \n",
      "   *  *  \n",
      "  *  *  *  \n",
      " *  *  *  *  \n",
      "*  *  *  *  *  \n"
     ]
    }
   ],
   "source": [
    "num=5\n",
    "for i in range(num):\n",
    "    print(' '*(num-i-1)+'*  '*(i+1))"
   ]
  },
  {
   "cell_type": "code",
   "execution_count": null,
   "id": "31c3a4f9-f414-4479-a2ff-fb144cf91202",
   "metadata": {},
   "outputs": [],
   "source": []
  }
 ],
 "metadata": {
  "kernelspec": {
   "display_name": "Python 3 (ipykernel)",
   "language": "python",
   "name": "python3"
  },
  "language_info": {
   "codemirror_mode": {
    "name": "ipython",
    "version": 3
   },
   "file_extension": ".py",
   "mimetype": "text/x-python",
   "name": "python",
   "nbconvert_exporter": "python",
   "pygments_lexer": "ipython3",
   "version": "3.12.4"
  }
 },
 "nbformat": 4,
 "nbformat_minor": 5
}
